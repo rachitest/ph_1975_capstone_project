{
 "cells": [
  {
   "cell_type": "code",
   "execution_count": 1,
   "metadata": {
    "id": "tq8HUbomurbN"
   },
   "outputs": [],
   "source": [
    "import yaml\n",
    "import json\n",
    "import os\n",
    "\n",
    "import sqlalchemy as sql\n",
    "import pandas as pd\n",
    "import plotly.express as px\n",
    "import pm_query as pq\n",
    "\n",
    "from Bio import Entrez\n",
    "pd.options.mode.chained_assignment = None # Stop set copy on slice warning"
   ]
  },
  {
   "cell_type": "markdown",
   "metadata": {},
   "source": [
    "# Part 1: Scraper"
   ]
  },
  {
   "cell_type": "markdown",
   "metadata": {},
   "source": [
    "These are the initial parameters of the scraper module: keys, email, and search. For the purpose of this demo, these parameters have already been assigned. The user should reassign these parameters for individual-use. Descriptions for assigned demo parameters are provided below:\n",
    "\n",
    "keys: function pq.secret_manager reads a yaml file containing the passwords and API keys necessary for running this module without hardcoding them into the Python script. An empty YAML file has been included for use. Add your own API key to increase polling rate. \n",
    "\n",
    "email: this has been assigned as the email address of the team member who created the module. \n",
    "\n",
    "search: this has been assigned as the search term \"HIV\"."
   ]
  },
  {
   "cell_type": "code",
   "execution_count": 8,
   "metadata": {},
   "outputs": [
    {
     "output_type": "stream",
     "name": "stdout",
     "text": [
      "Read Successful\n"
     ]
    }
   ],
   "source": [
    "keys = pq.secret_manager(\"apikeys_project.yaml\") \n",
    "\n",
    "email = \"rachit.sabharwal@uth.tmc.edu\"\n",
    "search = \"HIV\""
   ]
  },
  {
   "cell_type": "markdown",
   "metadata": {},
   "source": [
    "In the below cell, we gather the data for the final data frame. The get_pmid function queries the eSearch endpoint of the Entrez API to retrieve the corresponding pmids and join them to the input dataframe. Using the pmids retrieved in the get_pmids function, the get_data function queries the eFetch endpoint to retrieve the details for the corresponding citation as a list of dictionaries. The data gathered is then converted from a Python dictionary into a JSON-encoded object and saved as hiv_records.json\n",
    "\n",
    "For the purpose of time, do not run the cell. We have provided our output JSON file needed to continue the demo past this point. "
   ]
  },
  {
   "cell_type": "code",
   "execution_count": null,
   "metadata": {},
   "outputs": [],
   "source": [
    "hiv_pmids = pq.get_pmid(contact=email, key=keys[\"apikeys\"][\"ncbikey\"][\"key\"], term=search, mindate=\"2020/01/01\", maxdate=\"2020/09/01\")\n",
    "\n",
    "hiv_records = pq.get_data(pmid_list=hiv_pmids, contact=email, key=keys[\"apikeys\"][\"ncbikey\"][\"key\"])\n",
    "\n",
    "with open('hiv_records.json', 'w') as outfile:\n",
    "    json.dump(hiv_records, outfile)"
   ]
  },
  {
   "cell_type": "markdown",
   "metadata": {},
   "source": [
    "In this section, the retrieved data is cleaned by executing the clean_data and keep_cleaning functions. \n",
    "\n",
    "The keep_cleaning function performs additional cleaning on the data by: 1) resetting the index of the dataframe, 2) converting the pmid variable to an integer data type, 3) formatting the dates into the %Y-%m-%d’ format, and 4) joining the columns for title and abstract on index. \n",
    "\n",
    "Finally, the information from the dataframe is converted into CSV format."
   ]
  },
  {
   "cell_type": "code",
   "execution_count": 2,
   "metadata": {},
   "outputs": [
    {
     "output_type": "stream",
     "name": "stdout",
     "text": [
      "Your CSV is already up to date\n"
     ]
    }
   ],
   "source": [
    "with open('hiv_records.json', 'r') as outfile:\n",
    "    hiv_records = json.load(outfile)\n",
    "\n",
    "hiv_clean = pq.clean_data(hiv_records)\n",
    "hiv_clean = pq.keep_cleaning(hiv_clean)\n",
    "\n",
    "pq.file_downloader(\"hiv_csv_clean.csv\", hiv_clean)"
   ]
  },
  {
   "cell_type": "markdown",
   "metadata": {},
   "source": [
    "# Part 2: Database"
   ]
  },
  {
   "cell_type": "markdown",
   "metadata": {},
   "source": [
    "Using the csv_bnb function, the CSV file created by the data crawler is read via the pandas read_csv function. This data is then reformatted for use with SQLite and saved as a new CSV file called hiv_csv. \n",
    "\n",
    "The head function is then used to display the first 5 results from the query."
   ]
  },
  {
   "cell_type": "code",
   "execution_count": 3,
   "metadata": {},
   "outputs": [
    {
     "output_type": "execute_result",
     "data": {
      "text/plain": [
       "       pmid                                              title  \\\n",
       "0  32866934  The prevalence and risk factors for systemic h...   \n",
       "1  32866611  Expression, purification and crystallization o...   \n",
       "2  32866436  COVID-19 pneumonia in an HIV-positive woman on...   \n",
       "3  32866396  Acute supplementation with beetroot juice impr...   \n",
       "4  32866318  Model Informed Development of VRC01 in Newborn...   \n",
       "\n",
       "                                            abstract       dates  \\\n",
       "0  Diabetes and hypertension are common chronic d...  2020-08-18   \n",
       "1  Cdc-like kinase 1 (CLK1) is a dual-specificity...  2020-08-29   \n",
       "2  COVID-19 pandemic has been a problem worldwide...  2020-08-26   \n",
       "3  Human immunodeficiency virus (HIV) is associat...  2020-08-31   \n",
       "4  VRC01 is a first-in-class, potent, broadly neu...  2020-08-31   \n",
       "\n",
       "                                           author(s)  \n",
       "0  Almobarak Ahmed Omer, Badi Safaa, Siddiq Samar...  \n",
       "1  Dekel Noa, Eisenberg-Domovich Yael, Karlas Ale...  \n",
       "2            Cipolat Murillo Machado, Sprinz Eduardo  \n",
       "3  Nogueira Soares Rogerio, Machado-Santos Ana Pa...  \n",
       "4  Li Jerry, Nikanjam Mina, Cunningham Coleen K, ...  "
      ],
      "text/html": "<div>\n<style scoped>\n    .dataframe tbody tr th:only-of-type {\n        vertical-align: middle;\n    }\n\n    .dataframe tbody tr th {\n        vertical-align: top;\n    }\n\n    .dataframe thead th {\n        text-align: right;\n    }\n</style>\n<table border=\"1\" class=\"dataframe\">\n  <thead>\n    <tr style=\"text-align: right;\">\n      <th></th>\n      <th>pmid</th>\n      <th>title</th>\n      <th>abstract</th>\n      <th>dates</th>\n      <th>author(s)</th>\n    </tr>\n  </thead>\n  <tbody>\n    <tr>\n      <th>0</th>\n      <td>32866934</td>\n      <td>The prevalence and risk factors for systemic h...</td>\n      <td>Diabetes and hypertension are common chronic d...</td>\n      <td>2020-08-18</td>\n      <td>Almobarak Ahmed Omer, Badi Safaa, Siddiq Samar...</td>\n    </tr>\n    <tr>\n      <th>1</th>\n      <td>32866611</td>\n      <td>Expression, purification and crystallization o...</td>\n      <td>Cdc-like kinase 1 (CLK1) is a dual-specificity...</td>\n      <td>2020-08-29</td>\n      <td>Dekel Noa, Eisenberg-Domovich Yael, Karlas Ale...</td>\n    </tr>\n    <tr>\n      <th>2</th>\n      <td>32866436</td>\n      <td>COVID-19 pneumonia in an HIV-positive woman on...</td>\n      <td>COVID-19 pandemic has been a problem worldwide...</td>\n      <td>2020-08-26</td>\n      <td>Cipolat Murillo Machado, Sprinz Eduardo</td>\n    </tr>\n    <tr>\n      <th>3</th>\n      <td>32866396</td>\n      <td>Acute supplementation with beetroot juice impr...</td>\n      <td>Human immunodeficiency virus (HIV) is associat...</td>\n      <td>2020-08-31</td>\n      <td>Nogueira Soares Rogerio, Machado-Santos Ana Pa...</td>\n    </tr>\n    <tr>\n      <th>4</th>\n      <td>32866318</td>\n      <td>Model Informed Development of VRC01 in Newborn...</td>\n      <td>VRC01 is a first-in-class, potent, broadly neu...</td>\n      <td>2020-08-31</td>\n      <td>Li Jerry, Nikanjam Mina, Cunningham Coleen K, ...</td>\n    </tr>\n  </tbody>\n</table>\n</div>"
     },
     "metadata": {},
     "execution_count": 3
    }
   ],
   "source": [
    "hiv_csv = pq.csv_bnb(\"hiv_csv_clean.csv\")\n",
    "hiv_csv.head()"
   ]
  },
  {
   "cell_type": "markdown",
   "metadata": {},
   "source": [
    "The sqlite_out function is used to take the hiv_csv file and use the create_engine function included in sqlalchemy to automatically build a database from the aforementioned file, specifying SQLite as the database dialect. "
   ]
  },
  {
   "cell_type": "code",
   "execution_count": 4,
   "metadata": {},
   "outputs": [],
   "source": [
    "pq.sqlite_out(hiv_csv, \"HIV_Records\", \"PubMed_Query\")"
   ]
  },
  {
   "cell_type": "markdown",
   "metadata": {},
   "source": [
    "A similar create_engine function called sql_author_query is then used for an author query, restricting results to those with a similar author name by using the pandas read_sql function. \n",
    "\n",
    "As seen in the cell below, the desired name for the query has been set as \"Mary\". \n",
    "\n",
    "The head function is again used to display the first 5 results from this query."
   ]
  },
  {
   "cell_type": "code",
   "execution_count": 5,
   "metadata": {},
   "outputs": [
    {
     "output_type": "execute_result",
     "data": {
      "text/plain": [
       "       pmid                                              title  \\\n",
       "0  32866256  Nursing Considerations for Patients With HIV i...   \n",
       "1  32864388          COVID-19 in Hospitalized Adults With HIV.   \n",
       "2  32860699  Risk factors for COVID-19 death in a populatio...   \n",
       "3  32859191  Understanding long-term HIV survivorship among...   \n",
       "4  32852363  Brief Report: Increased Cotinine Concentration...   \n",
       "\n",
       "                                            abstract       dates  \\\n",
       "0  Infection with HIV is a chronic condition that...        None   \n",
       "1  The spread of SARS-CoV-2 and the COVID-19 pand...  2020-08-01   \n",
       "2  Risk factors for COVID-19 death in sub-Saharan...  2020-08-29   \n",
       "3  Persons living with HIV (PLWH) are living long...  2020-08-28   \n",
       "4  There is a strong link between cigarette smoki...        None   \n",
       "\n",
       "                                           author(s)  \n",
       "0                 Graham Lucy, Makic Mary Beth Flynn  \n",
       "1  Stoeckle Kate, Johnston Carrie D, Jannat-Khah ...  \n",
       "2  Boulle Andrew, Davies Mary-Ann, Hussey Hannah,...  \n",
       "3  Freeman Robert, Gwadz Marya, Wilton Leo, Colli...  \n",
       "4  Diaz Philip T, Ferketich Amy, Wewers Mary E, B...  "
      ],
      "text/html": "<div>\n<style scoped>\n    .dataframe tbody tr th:only-of-type {\n        vertical-align: middle;\n    }\n\n    .dataframe tbody tr th {\n        vertical-align: top;\n    }\n\n    .dataframe thead th {\n        text-align: right;\n    }\n</style>\n<table border=\"1\" class=\"dataframe\">\n  <thead>\n    <tr style=\"text-align: right;\">\n      <th></th>\n      <th>pmid</th>\n      <th>title</th>\n      <th>abstract</th>\n      <th>dates</th>\n      <th>author(s)</th>\n    </tr>\n  </thead>\n  <tbody>\n    <tr>\n      <th>0</th>\n      <td>32866256</td>\n      <td>Nursing Considerations for Patients With HIV i...</td>\n      <td>Infection with HIV is a chronic condition that...</td>\n      <td>None</td>\n      <td>Graham Lucy, Makic Mary Beth Flynn</td>\n    </tr>\n    <tr>\n      <th>1</th>\n      <td>32864388</td>\n      <td>COVID-19 in Hospitalized Adults With HIV.</td>\n      <td>The spread of SARS-CoV-2 and the COVID-19 pand...</td>\n      <td>2020-08-01</td>\n      <td>Stoeckle Kate, Johnston Carrie D, Jannat-Khah ...</td>\n    </tr>\n    <tr>\n      <th>2</th>\n      <td>32860699</td>\n      <td>Risk factors for COVID-19 death in a populatio...</td>\n      <td>Risk factors for COVID-19 death in sub-Saharan...</td>\n      <td>2020-08-29</td>\n      <td>Boulle Andrew, Davies Mary-Ann, Hussey Hannah,...</td>\n    </tr>\n    <tr>\n      <th>3</th>\n      <td>32859191</td>\n      <td>Understanding long-term HIV survivorship among...</td>\n      <td>Persons living with HIV (PLWH) are living long...</td>\n      <td>2020-08-28</td>\n      <td>Freeman Robert, Gwadz Marya, Wilton Leo, Colli...</td>\n    </tr>\n    <tr>\n      <th>4</th>\n      <td>32852363</td>\n      <td>Brief Report: Increased Cotinine Concentration...</td>\n      <td>There is a strong link between cigarette smoki...</td>\n      <td>None</td>\n      <td>Diaz Philip T, Ferketich Amy, Wewers Mary E, B...</td>\n    </tr>\n  </tbody>\n</table>\n</div>"
     },
     "metadata": {},
     "execution_count": 5
    }
   ],
   "source": [
    "sql_df = pq.sql_author_query(\"Mary\", \"HIV_Records\", \"PubMed_Query\")\n",
    "sql_df.head()"
   ]
  },
  {
   "cell_type": "markdown",
   "metadata": {},
   "source": [
    "# Part 3: Visualization"
   ]
  },
  {
   "cell_type": "markdown",
   "metadata": {},
   "source": [
    "To either display number of publications in each month as a bar graph, visualize the trend of the publications over time as a line graph, or view both simultaneously as the line graph overlays the bar graph, call on the draw_graph function.\n",
    "\n",
    "The default graph drawn is a line graph, which we have shown below. Users can input in the optional string parameter \"graph_type\" to specify the desired graph type of \"line\" (the default), \"bar\" or \"both\". \n",
    "\n",
    "EX: pq.draw_graph(df,\"both\")"
   ]
  },
  {
   "cell_type": "code",
   "execution_count": 6,
   "metadata": {},
   "outputs": [
    {
     "output_type": "display_data",
     "data": {
      "application/vnd.plotly.v1+json": {
       "config": {
        "plotlyServerURL": "https://plot.ly"
       },
       "data": [
        {
         "hovertemplate": "Months=%{x}<br>Number of Publications=%{y}<extra></extra>",
         "legendgroup": "",
         "line": {
          "color": "#636efa",
          "dash": "solid"
         },
         "mode": "lines",
         "name": "",
         "orientation": "v",
         "showlegend": false,
         "type": "scatter",
         "x": [
          "January",
          "February",
          "March",
          "April",
          "May",
          "June",
          "July",
          "August",
          "September",
          "October",
          "November",
          "December"
         ],
         "xaxis": "x",
         "y": [
          855,
          858,
          935,
          900,
          936,
          968,
          1062,
          887,
          71,
          43,
          49,
          200
         ],
         "yaxis": "y"
        }
       ],
       "layout": {
        "legend": {
         "tracegroupgap": 0
        },
        "template": {
         "data": {
          "bar": [
           {
            "error_x": {
             "color": "#2a3f5f"
            },
            "error_y": {
             "color": "#2a3f5f"
            },
            "marker": {
             "line": {
              "color": "#E5ECF6",
              "width": 0.5
             }
            },
            "type": "bar"
           }
          ],
          "barpolar": [
           {
            "marker": {
             "line": {
              "color": "#E5ECF6",
              "width": 0.5
             }
            },
            "type": "barpolar"
           }
          ],
          "carpet": [
           {
            "aaxis": {
             "endlinecolor": "#2a3f5f",
             "gridcolor": "white",
             "linecolor": "white",
             "minorgridcolor": "white",
             "startlinecolor": "#2a3f5f"
            },
            "baxis": {
             "endlinecolor": "#2a3f5f",
             "gridcolor": "white",
             "linecolor": "white",
             "minorgridcolor": "white",
             "startlinecolor": "#2a3f5f"
            },
            "type": "carpet"
           }
          ],
          "choropleth": [
           {
            "colorbar": {
             "outlinewidth": 0,
             "ticks": ""
            },
            "type": "choropleth"
           }
          ],
          "contour": [
           {
            "colorbar": {
             "outlinewidth": 0,
             "ticks": ""
            },
            "colorscale": [
             [
              0,
              "#0d0887"
             ],
             [
              0.1111111111111111,
              "#46039f"
             ],
             [
              0.2222222222222222,
              "#7201a8"
             ],
             [
              0.3333333333333333,
              "#9c179e"
             ],
             [
              0.4444444444444444,
              "#bd3786"
             ],
             [
              0.5555555555555556,
              "#d8576b"
             ],
             [
              0.6666666666666666,
              "#ed7953"
             ],
             [
              0.7777777777777778,
              "#fb9f3a"
             ],
             [
              0.8888888888888888,
              "#fdca26"
             ],
             [
              1,
              "#f0f921"
             ]
            ],
            "type": "contour"
           }
          ],
          "contourcarpet": [
           {
            "colorbar": {
             "outlinewidth": 0,
             "ticks": ""
            },
            "type": "contourcarpet"
           }
          ],
          "heatmap": [
           {
            "colorbar": {
             "outlinewidth": 0,
             "ticks": ""
            },
            "colorscale": [
             [
              0,
              "#0d0887"
             ],
             [
              0.1111111111111111,
              "#46039f"
             ],
             [
              0.2222222222222222,
              "#7201a8"
             ],
             [
              0.3333333333333333,
              "#9c179e"
             ],
             [
              0.4444444444444444,
              "#bd3786"
             ],
             [
              0.5555555555555556,
              "#d8576b"
             ],
             [
              0.6666666666666666,
              "#ed7953"
             ],
             [
              0.7777777777777778,
              "#fb9f3a"
             ],
             [
              0.8888888888888888,
              "#fdca26"
             ],
             [
              1,
              "#f0f921"
             ]
            ],
            "type": "heatmap"
           }
          ],
          "heatmapgl": [
           {
            "colorbar": {
             "outlinewidth": 0,
             "ticks": ""
            },
            "colorscale": [
             [
              0,
              "#0d0887"
             ],
             [
              0.1111111111111111,
              "#46039f"
             ],
             [
              0.2222222222222222,
              "#7201a8"
             ],
             [
              0.3333333333333333,
              "#9c179e"
             ],
             [
              0.4444444444444444,
              "#bd3786"
             ],
             [
              0.5555555555555556,
              "#d8576b"
             ],
             [
              0.6666666666666666,
              "#ed7953"
             ],
             [
              0.7777777777777778,
              "#fb9f3a"
             ],
             [
              0.8888888888888888,
              "#fdca26"
             ],
             [
              1,
              "#f0f921"
             ]
            ],
            "type": "heatmapgl"
           }
          ],
          "histogram": [
           {
            "marker": {
             "colorbar": {
              "outlinewidth": 0,
              "ticks": ""
             }
            },
            "type": "histogram"
           }
          ],
          "histogram2d": [
           {
            "colorbar": {
             "outlinewidth": 0,
             "ticks": ""
            },
            "colorscale": [
             [
              0,
              "#0d0887"
             ],
             [
              0.1111111111111111,
              "#46039f"
             ],
             [
              0.2222222222222222,
              "#7201a8"
             ],
             [
              0.3333333333333333,
              "#9c179e"
             ],
             [
              0.4444444444444444,
              "#bd3786"
             ],
             [
              0.5555555555555556,
              "#d8576b"
             ],
             [
              0.6666666666666666,
              "#ed7953"
             ],
             [
              0.7777777777777778,
              "#fb9f3a"
             ],
             [
              0.8888888888888888,
              "#fdca26"
             ],
             [
              1,
              "#f0f921"
             ]
            ],
            "type": "histogram2d"
           }
          ],
          "histogram2dcontour": [
           {
            "colorbar": {
             "outlinewidth": 0,
             "ticks": ""
            },
            "colorscale": [
             [
              0,
              "#0d0887"
             ],
             [
              0.1111111111111111,
              "#46039f"
             ],
             [
              0.2222222222222222,
              "#7201a8"
             ],
             [
              0.3333333333333333,
              "#9c179e"
             ],
             [
              0.4444444444444444,
              "#bd3786"
             ],
             [
              0.5555555555555556,
              "#d8576b"
             ],
             [
              0.6666666666666666,
              "#ed7953"
             ],
             [
              0.7777777777777778,
              "#fb9f3a"
             ],
             [
              0.8888888888888888,
              "#fdca26"
             ],
             [
              1,
              "#f0f921"
             ]
            ],
            "type": "histogram2dcontour"
           }
          ],
          "mesh3d": [
           {
            "colorbar": {
             "outlinewidth": 0,
             "ticks": ""
            },
            "type": "mesh3d"
           }
          ],
          "parcoords": [
           {
            "line": {
             "colorbar": {
              "outlinewidth": 0,
              "ticks": ""
             }
            },
            "type": "parcoords"
           }
          ],
          "pie": [
           {
            "automargin": true,
            "type": "pie"
           }
          ],
          "scatter": [
           {
            "marker": {
             "colorbar": {
              "outlinewidth": 0,
              "ticks": ""
             }
            },
            "type": "scatter"
           }
          ],
          "scatter3d": [
           {
            "line": {
             "colorbar": {
              "outlinewidth": 0,
              "ticks": ""
             }
            },
            "marker": {
             "colorbar": {
              "outlinewidth": 0,
              "ticks": ""
             }
            },
            "type": "scatter3d"
           }
          ],
          "scattercarpet": [
           {
            "marker": {
             "colorbar": {
              "outlinewidth": 0,
              "ticks": ""
             }
            },
            "type": "scattercarpet"
           }
          ],
          "scattergeo": [
           {
            "marker": {
             "colorbar": {
              "outlinewidth": 0,
              "ticks": ""
             }
            },
            "type": "scattergeo"
           }
          ],
          "scattergl": [
           {
            "marker": {
             "colorbar": {
              "outlinewidth": 0,
              "ticks": ""
             }
            },
            "type": "scattergl"
           }
          ],
          "scattermapbox": [
           {
            "marker": {
             "colorbar": {
              "outlinewidth": 0,
              "ticks": ""
             }
            },
            "type": "scattermapbox"
           }
          ],
          "scatterpolar": [
           {
            "marker": {
             "colorbar": {
              "outlinewidth": 0,
              "ticks": ""
             }
            },
            "type": "scatterpolar"
           }
          ],
          "scatterpolargl": [
           {
            "marker": {
             "colorbar": {
              "outlinewidth": 0,
              "ticks": ""
             }
            },
            "type": "scatterpolargl"
           }
          ],
          "scatterternary": [
           {
            "marker": {
             "colorbar": {
              "outlinewidth": 0,
              "ticks": ""
             }
            },
            "type": "scatterternary"
           }
          ],
          "surface": [
           {
            "colorbar": {
             "outlinewidth": 0,
             "ticks": ""
            },
            "colorscale": [
             [
              0,
              "#0d0887"
             ],
             [
              0.1111111111111111,
              "#46039f"
             ],
             [
              0.2222222222222222,
              "#7201a8"
             ],
             [
              0.3333333333333333,
              "#9c179e"
             ],
             [
              0.4444444444444444,
              "#bd3786"
             ],
             [
              0.5555555555555556,
              "#d8576b"
             ],
             [
              0.6666666666666666,
              "#ed7953"
             ],
             [
              0.7777777777777778,
              "#fb9f3a"
             ],
             [
              0.8888888888888888,
              "#fdca26"
             ],
             [
              1,
              "#f0f921"
             ]
            ],
            "type": "surface"
           }
          ],
          "table": [
           {
            "cells": {
             "fill": {
              "color": "#EBF0F8"
             },
             "line": {
              "color": "white"
             }
            },
            "header": {
             "fill": {
              "color": "#C8D4E3"
             },
             "line": {
              "color": "white"
             }
            },
            "type": "table"
           }
          ]
         },
         "layout": {
          "annotationdefaults": {
           "arrowcolor": "#2a3f5f",
           "arrowhead": 0,
           "arrowwidth": 1
          },
          "autotypenumbers": "strict",
          "coloraxis": {
           "colorbar": {
            "outlinewidth": 0,
            "ticks": ""
           }
          },
          "colorscale": {
           "diverging": [
            [
             0,
             "#8e0152"
            ],
            [
             0.1,
             "#c51b7d"
            ],
            [
             0.2,
             "#de77ae"
            ],
            [
             0.3,
             "#f1b6da"
            ],
            [
             0.4,
             "#fde0ef"
            ],
            [
             0.5,
             "#f7f7f7"
            ],
            [
             0.6,
             "#e6f5d0"
            ],
            [
             0.7,
             "#b8e186"
            ],
            [
             0.8,
             "#7fbc41"
            ],
            [
             0.9,
             "#4d9221"
            ],
            [
             1,
             "#276419"
            ]
           ],
           "sequential": [
            [
             0,
             "#0d0887"
            ],
            [
             0.1111111111111111,
             "#46039f"
            ],
            [
             0.2222222222222222,
             "#7201a8"
            ],
            [
             0.3333333333333333,
             "#9c179e"
            ],
            [
             0.4444444444444444,
             "#bd3786"
            ],
            [
             0.5555555555555556,
             "#d8576b"
            ],
            [
             0.6666666666666666,
             "#ed7953"
            ],
            [
             0.7777777777777778,
             "#fb9f3a"
            ],
            [
             0.8888888888888888,
             "#fdca26"
            ],
            [
             1,
             "#f0f921"
            ]
           ],
           "sequentialminus": [
            [
             0,
             "#0d0887"
            ],
            [
             0.1111111111111111,
             "#46039f"
            ],
            [
             0.2222222222222222,
             "#7201a8"
            ],
            [
             0.3333333333333333,
             "#9c179e"
            ],
            [
             0.4444444444444444,
             "#bd3786"
            ],
            [
             0.5555555555555556,
             "#d8576b"
            ],
            [
             0.6666666666666666,
             "#ed7953"
            ],
            [
             0.7777777777777778,
             "#fb9f3a"
            ],
            [
             0.8888888888888888,
             "#fdca26"
            ],
            [
             1,
             "#f0f921"
            ]
           ]
          },
          "colorway": [
           "#636efa",
           "#EF553B",
           "#00cc96",
           "#ab63fa",
           "#FFA15A",
           "#19d3f3",
           "#FF6692",
           "#B6E880",
           "#FF97FF",
           "#FECB52"
          ],
          "font": {
           "color": "#2a3f5f"
          },
          "geo": {
           "bgcolor": "white",
           "lakecolor": "white",
           "landcolor": "#E5ECF6",
           "showlakes": true,
           "showland": true,
           "subunitcolor": "white"
          },
          "hoverlabel": {
           "align": "left"
          },
          "hovermode": "closest",
          "mapbox": {
           "style": "light"
          },
          "paper_bgcolor": "white",
          "plot_bgcolor": "#E5ECF6",
          "polar": {
           "angularaxis": {
            "gridcolor": "white",
            "linecolor": "white",
            "ticks": ""
           },
           "bgcolor": "#E5ECF6",
           "radialaxis": {
            "gridcolor": "white",
            "linecolor": "white",
            "ticks": ""
           }
          },
          "scene": {
           "xaxis": {
            "backgroundcolor": "#E5ECF6",
            "gridcolor": "white",
            "gridwidth": 2,
            "linecolor": "white",
            "showbackground": true,
            "ticks": "",
            "zerolinecolor": "white"
           },
           "yaxis": {
            "backgroundcolor": "#E5ECF6",
            "gridcolor": "white",
            "gridwidth": 2,
            "linecolor": "white",
            "showbackground": true,
            "ticks": "",
            "zerolinecolor": "white"
           },
           "zaxis": {
            "backgroundcolor": "#E5ECF6",
            "gridcolor": "white",
            "gridwidth": 2,
            "linecolor": "white",
            "showbackground": true,
            "ticks": "",
            "zerolinecolor": "white"
           }
          },
          "shapedefaults": {
           "line": {
            "color": "#2a3f5f"
           }
          },
          "ternary": {
           "aaxis": {
            "gridcolor": "white",
            "linecolor": "white",
            "ticks": ""
           },
           "baxis": {
            "gridcolor": "white",
            "linecolor": "white",
            "ticks": ""
           },
           "bgcolor": "#E5ECF6",
           "caxis": {
            "gridcolor": "white",
            "linecolor": "white",
            "ticks": ""
           }
          },
          "title": {
           "x": 0.05
          },
          "xaxis": {
           "automargin": true,
           "gridcolor": "white",
           "linecolor": "white",
           "ticks": "",
           "title": {
            "standoff": 15
           },
           "zerolinecolor": "white",
           "zerolinewidth": 2
          },
          "yaxis": {
           "automargin": true,
           "gridcolor": "white",
           "linecolor": "white",
           "ticks": "",
           "title": {
            "standoff": 15
           },
           "zerolinecolor": "white",
           "zerolinewidth": 2
          }
         }
        },
        "title": {
         "text": "Monthly Trend for HIV Publications"
        },
        "xaxis": {
         "anchor": "y",
         "domain": [
          0,
          1
         ],
         "title": {
          "text": "Months"
         }
        },
        "yaxis": {
         "anchor": "x",
         "domain": [
          0,
          1
         ],
         "title": {
          "text": "Number of Publications"
         }
        }
       }
      }
     },
     "metadata": {}
    }
   ],
   "source": [
    "pq.draw_graph(hiv_csv)"
   ]
  },
  {
   "cell_type": "markdown",
   "metadata": {},
   "source": [
    "Call on the summary_stats function to display the summary statistics by month. Change the string value to output summary statistics for different months. The current input month value is \"january\". This function is case-insensitive."
   ]
  },
  {
   "cell_type": "code",
   "execution_count": 7,
   "metadata": {},
   "outputs": [
    {
     "output_type": "execute_result",
     "data": {
      "text/plain": [
       "      January (Publications per Month)\n",
       "mean                         27.580645\n",
       "std                          13.065921\n",
       "min                           3.000000\n",
       "25%                          18.000000\n",
       "50%                          32.000000\n",
       "75%                          37.500000\n",
       "max                          46.000000"
      ],
      "text/html": "<div>\n<style scoped>\n    .dataframe tbody tr th:only-of-type {\n        vertical-align: middle;\n    }\n\n    .dataframe tbody tr th {\n        vertical-align: top;\n    }\n\n    .dataframe thead th {\n        text-align: right;\n    }\n</style>\n<table border=\"1\" class=\"dataframe\">\n  <thead>\n    <tr style=\"text-align: right;\">\n      <th></th>\n      <th>January (Publications per Month)</th>\n    </tr>\n  </thead>\n  <tbody>\n    <tr>\n      <th>mean</th>\n      <td>27.580645</td>\n    </tr>\n    <tr>\n      <th>std</th>\n      <td>13.065921</td>\n    </tr>\n    <tr>\n      <th>min</th>\n      <td>3.000000</td>\n    </tr>\n    <tr>\n      <th>25%</th>\n      <td>18.000000</td>\n    </tr>\n    <tr>\n      <th>50%</th>\n      <td>32.000000</td>\n    </tr>\n    <tr>\n      <th>75%</th>\n      <td>37.500000</td>\n    </tr>\n    <tr>\n      <th>max</th>\n      <td>46.000000</td>\n    </tr>\n  </tbody>\n</table>\n</div>"
     },
     "metadata": {},
     "execution_count": 7
    }
   ],
   "source": [
    "summary_stats = pq.summary_stats(hiv_csv, \"january\")\n",
    "summary_stats"
   ]
  }
 ],
 "metadata": {
  "colab": {
   "collapsed_sections": [],
   "name": "pm_query.ipynb",
   "provenance": []
  },
  "kernelspec": {
   "display_name": "Python 3",
   "language": "python",
   "name": "python3"
  },
  "language_info": {
   "codemirror_mode": {
    "name": "ipython",
    "version": 3
   },
   "file_extension": ".py",
   "mimetype": "text/x-python",
   "name": "python",
   "nbconvert_exporter": "python",
   "pygments_lexer": "ipython3",
   "version": "3.8.5-final"
  }
 },
 "nbformat": 4,
 "nbformat_minor": 1
}