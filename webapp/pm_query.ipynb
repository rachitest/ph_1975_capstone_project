{
  "nbformat": 4,
  "nbformat_minor": 0,
  "metadata": {
    "colab": {
      "name": "pm_query.ipynb",
      "provenance": [],
      "collapsed_sections": []
    },
    "kernelspec": {
      "name": "python3",
      "display_name": "Python 3",
      "language": "python"
    }
  },
  "cells": [
    {
      "source": [
        "import yaml\n",
        "import json\n",
        "import os\n",
        "\n",
        "import sqlalchemy as sql\n",
        "import pandas as pd\n",
        "import plotly.express as px\n",
        "\n",
        "from Bio import Entrez"
      ],
      "cell_type": "code",
      "metadata": {
        "id": "tq8HUbomurbN"
      },
      "execution_count": null,
      "outputs": []
    },
    {
      "cell_type": "code",
      "metadata": {
        "id": "BNSii-U9vQ7c"
      },
      "source": [
        "# Handles the eSearch endpoint for Entrez\n",
        "def get_pmid(contact, key, term, **dates):\n",
        "    ''' Using the Entrez search term, it queries the eSearch endpoint of the Entrez api to retrieve the corresponding pmids and join them to the input df. '''\n",
        "    for_efetch = []\n",
        "    Entrez.email = contact\n",
        "    Entrez.api_key = key\n",
        "    \n",
        "    # Get total number of records\n",
        "    handle = Entrez.esearch(db='pubmed', term=term, retmax=1, mindate=dates.get(\"mindate\"), maxdate=dates.get(\"maxdate\"))\n",
        "    record = Entrez.read(handle)\n",
        "    count = int(record['Count'])\n",
        "\n",
        "    # Get all pmids with updated retmax\n",
        "    handle = Entrez.esearch(db='pubmed', term=term, retmax=count, mindate=dates.get(\"mindate\"), maxdate=dates.get(\"maxdate\"))\n",
        "    record = Entrez.read(handle)\n",
        "    for_efetch.append(record['IdList'])\n",
        "\n",
        "    # Change output from being a 1 item list\n",
        "    for_efetch = pd.Series(for_efetch[0]).str.split(pat=\",\", expand=True).values.tolist()\n",
        "\n",
        "    return for_efetch\n",
        "\n",
        "# Handles the eFetch endpoint for Entrez\n",
        "def get_data(pmid_list, contact, key):\n",
        "    ''' Using the pmids, it queries the eFetch endpoint to retrieve the details for the corresponding citation as a list of dictionaries. ''' \n",
        "    to_clean = []\n",
        "    counter = 0\n",
        "    for i in range(len(pmid_list)):\n",
        "            Entrez.email = contact\n",
        "            Entrez.api_key = key\n",
        "            handle = Entrez.efetch(db='pubmed', id=pmid_list[i], retmode='xml')\n",
        "            record = Entrez.read(handle)\n",
        "            to_clean.append(record)\n",
        "            if counter == 600:\n",
        "                print(f\"Number of records retrieved is {len(to_clean)}\")\n",
        "                time.sleep(60)\n",
        "                counter = 0\n",
        "            \n",
        "            counter += 1\n",
        "\n",
        "    return to_clean\n",
        "\n",
        "def clean_data(records):\n",
        "    ''' Using a list of dictionaries (that contains all citation data for the dataset), on a per citation basis, it extracts the following information about the citations where possible:\n",
        "    title, abstract, date, authors. The extracted information is saved as a list which is then converted into a df. \n",
        "    ''' \n",
        "    for record in records:\n",
        "        if record.get(\"PubmedArticle\") != []:\n",
        "            a = record[\"PubmedArticle\"][0][\"MedlineCitation\"][\"Article\"][\"ArticleTitle\"]\n",
        "            if \"Abstract\" in record[\"PubmedArticle\"][0][\"MedlineCitation\"][\"Article\"].keys():\n",
        "                b = record[\"PubmedArticle\"][0][\"MedlineCitation\"][\"Article\"][\"Abstract\"][\"AbstractText\"]\n",
        "            else:\n",
        "                b = []\n",
        "            if (\"ArticleDate\" in record[\"PubmedArticle\"][0][\"MedlineCitation\"][\"Article\"].keys()) and ((record[\"PubmedArticle\"][0][\"MedlineCitation\"][\"Article\"][\"ArticleDate\"]) != []):\n",
        "                clean_date = pd.json_normalize(record[\"PubmedArticle\"][0][\"MedlineCitation\"][\"Article\"][\"ArticleDate\"]).values.tolist()\n",
        "                clean_date = [item for sublist in clean_date for item in sublist]\n",
        "                c = \"-\".join(clean_date)\n",
        "            else:\n",
        "                c = []\n",
        "            if \"AuthorList\" in record[\"PubmedArticle\"][0][\"MedlineCitation\"][\"Article\"].keys():\n",
        "                clean_name = pd.json_normalize(record[\"PubmedArticle\"][0][\"MedlineCitation\"][\"Article\"][\"AuthorList\"])\n",
        "                if \"LastName\" in clean_name and \"ForeName\" in clean_name:\n",
        "                    clean_name = clean_name[\"LastName\"] + \" \" + clean_name[\"ForeName\"]\n",
        "                elif \"CollectiveName\" in clean_name:\n",
        "                    clean_name = clean_name[\"CollectiveName\"]\n",
        "                elif \"ForeName\" not in clean_name or \"CollectiveName\" not in clean_name:\n",
        "                    clean_name = clean_name[\"LastName\"]\n",
        "                elif \"LastName\" not in clean_name or \"CollectiveName\" not in clean_name:\n",
        "                    clean_name = clean_name[\"ForeName\"]\n",
        "                d = clean_name.values.tolist()\n",
        "            else:\n",
        "                d = []\n",
        "            e = record[\"PubmedArticle\"][0][\"MedlineCitation\"][\"PMID\"]\n",
        "        elif record.get(\"PubmedArticle\") == []:\n",
        "            a = record[\"PubmedBookArticle\"][0][\"BookDocument\"][\"Book\"][\"BookTitle\"]\n",
        "            if \"Abstract\" in record[\"PubmedBookArticle\"][0][\"BookDocument\"].keys():\n",
        "                b = record[\"PubmedBookArticle\"][0][\"BookDocument\"][\"Abstract\"][\"AbstractText\"]\n",
        "            else:\n",
        "                b = []\n",
        "            if \"PubDate\" in record[\"PubmedBookArticle\"][0][\"BookDocument\"][\"Book\"].keys():\n",
        "                clean_date = pd.json_normalize(record[\"PubmedBookArticle\"][0][\"BookDocument\"][\"Book\"][\"PubDate\"]).values.tolist()\n",
        "                clean_date = [item for sublist in clean_date for item in sublist]\n",
        "                c = \"-\".join(clean_date)\n",
        "            else:\n",
        "                c = []\n",
        "            if (\"AuthorList\" in record[\"PubmedBookArticle\"][0][\"BookDocument\"][\"Book\"].keys()) and (record[\"PubmedBookArticle\"][0][\"BookDocument\"][\"AuthorList\"] != []):\n",
        "                clean = record[\"PubmedBookArticle\"][0][\"BookDocument\"][\"AuthorList\"]\n",
        "                clean_name = [item for sublist in clean for item in sublist]\n",
        "                clean_name = pd.json_normalize(clean_name)\n",
        "                if \"LastName\" in clean_name and \"ForeName\" in clean_name:\n",
        "                    clean_name = clean_name[\"LastName\"] + \" \" + clean_name[\"ForeName\"]\n",
        "                elif \"CollectiveName\" in clean_name:\n",
        "                    clean_name = clean_name[\"CollectiveName\"]\n",
        "                elif \"ForeName\" not in clean_name or \"CollectiveName\" not in clean_name:\n",
        "                    clean_name = clean_name[\"LastName\"]\n",
        "                elif \"LastName\" not in clean_name or \"CollectiveName\" not in clean_name:\n",
        "                    clean_name = clean_name[\"ForeName\"]\n",
        "                d = clean_name.values.tolist()\n",
        "            else:\n",
        "                d = []\n",
        "            e = record[\"PubmedBookArticle\"][0][\"BookDocument\"][\"PMID\"]\n",
        "\n",
        "        v = [e,a,b,c,d]\n",
        "\n",
        "        data_tmp = pd.DataFrame(v).transpose().rename(columns={0:\"pmid\",1:\"title\",2:\"abstract\",3:\"date\",4:\"author(s)\"})\n",
        "\n",
        "        if records.index(record) == 0:\n",
        "            data = data_tmp\n",
        "        else:\n",
        "            data = pd.concat([data,data_tmp])\n",
        "\n",
        "    return data\n",
        "\n",
        "def sqlite_out(clean_records):\n",
        "    engine = sql.create_engine('sqlite:///HIV_Records.db', echo=False)\n",
        "    clean_records.to_sql(\"HIV_Records\", con=engine, if_exists='replace', index=False)\n",
        "\n",
        "def sql_author_query(author_name):\n",
        "    engine = sql.create_engine('sqlite:///HIV_Records.db', echo=False)\n",
        "    sql_df = pd.read_sql(f\"select * from HIV_Records as h where h.'author(s)' like '%{author_name}%'\", con=engine)\n",
        "    \n",
        "    return sql_df"
      ],
      "execution_count": null,
      "outputs": []
    },
    {
      "cell_type": "code",
      "metadata": {
        "id": "7_1lFOsU5_bb",
        "colab": {
          "base_uri": "https://localhost:8080/"
        },
        "outputId": "ddfcaf5f-f189-4a8b-a3ff-72c4f85d6b9a"
      },
      "source": [
        "with open(\"apikeys.yaml\", \"r\") as yamlfile:\n",
        "  keys = yaml.load(yamlfile, Loader=yaml.FullLoader)\n",
        "  print(\"Read Successful\")"
      ],
      "execution_count": null,
      "outputs": []
    },
    {
      "cell_type": "code",
      "metadata": {
        "id": "iFuEdgMkvVlc"
      },
      "source": [
        "email = \"rachit.sabharwal@uth.tmc.edu\"\n",
        "search = \"HIV\"\n",
        "hiv_pmids = get_pmid(contact=email, key=keys[\"apikeys\"][\"ncbikey\"][\"key\"], term=search, mindate=\"2020/01/01\", maxdate=\"2020/09/01\")"
      ],
      "execution_count": null,
      "outputs": []
    },
    {
      "cell_type": "code",
      "execution_count": null,
      "metadata": {},
      "outputs": [],
      "source": [
        "hiv_records = get_data(pmid_list=hiv_pmids, contact=email, key=keys[\"apikeys\"][\"ncbikey\"][\"key\"])\n",
        "with open('hiv_records.json', 'w') as outfile:\n",
        "    json.dump(hiv_records, outfile)"
      ]
    },
    {
      "cell_type": "code",
      "execution_count": null,
      "metadata": {},
      "outputs": [],
      "source": [
        "with open('D:\\Dell_Desktop\\Documents\\Python Projects\\ph_1975_capstone_project\\webapp\\hiv_records.json', 'r') as outfile:\n",
        "   hiv_records = json.load(outfile)"
      ]
    },
    {
      "cell_type": "code",
      "execution_count": null,
      "metadata": {},
      "outputs": [],
      "source": [
        "hiv_clean = clean_data(hiv_records)"
      ]
    },
    {
      "cell_type": "code",
      "execution_count": null,
      "metadata": {},
      "outputs": [],
      "source": [
        "hiv_clean = hiv_clean.reset_index(drop=True)\n",
        "hiv_clean.pmid = hiv_clean.pmid.astype(int)\n",
        "hiv_clean.date = pd.to_datetime(hiv_clean.date, format='%Y-%m-%d', utc=False, errors=\"coerce\").dt.date()\n",
        "\n",
        "columns = [\"title\", \"abstract\"]\n",
        "for column in columns:\n",
        "    hiv_clean[column] = [','.join(item) if isinstance(item, list) else item for item in hiv_clean[column]]"
      ]
    },
    {
      "cell_type": "code",
      "execution_count": null,
      "metadata": {},
      "outputs": [],
      "source": [
        "if not os.path.exists(\"hiv_records_clean.csv\"):\n",
        "    hiv_clean.to_csv(\"hiv_records_clean.csv\", index=False, date_format='%Y-%m-%d')\n",
        "elif os.path.exists(\"hiv_records_clean.csv\"):\n",
        "    print(\"Your CSV is already up to date!\")"
      ]
    },
    {
      "cell_type": "code",
      "execution_count": 16,
      "metadata": {},
      "outputs": [],
      "source": [
        "hiv_csv = pd.read_csv(\"hiv_records_clean.csv\", dtype={'pmid': int}, parse_dates=['date'])\n",
        "hiv_csv[\"date\"] = pd.to_datetime(hiv_csv.date, format='%Y-%m-%d', utc=False).dt.date\n",
        "change = [\"'\",\"[\",\"]\", \"nan\", \"\"]\n",
        "for i in range(len(hiv_csv)):\n",
        "    for j in change:\n",
        "        hiv_csv[\"author(s)\"][i] = hiv_csv[\"author(s)\"][i].replace(j, '')"
      ]
    },
    {
      "cell_type": "code",
      "execution_count": null,
      "metadata": {},
      "outputs": [],
      "source": [
        "sqlite_out(hiv_csv)"
      ]
    },
    {
      "cell_type": "code",
      "execution_count": 19,
      "metadata": {},
      "outputs": [
        {
          "output_type": "execute_result",
          "data": {
            "text/plain": [
              "       pmid                                              title  \\\n",
              "0  32866318  Model Informed Development of VRC01 in Newborn...   \n",
              "1  32847906  Novel approach to estimate tuberculosis transm...   \n",
              "2  32842997  HIV status disclosure by Nigerian men who have...   \n",
              "3  32828748  Prevalence and molecular characterization of h...   \n",
              "4  32819210  Uptake, retention, and outcomes in a demonstra...   \n",
              "\n",
              "                                            abstract        date  \\\n",
              "0  VRC01 is a first-in-class, potent, broadly neu...  2020-08-31   \n",
              "1  Tuberculosis (TB) transmission is difficult to...  2020-08-26   \n",
              "2  Men who have sex with men (MSM) and transgende...  2020-08-26   \n",
              "3  Sub-Saharan Africa (SSA) is the region with th...  2020-08-19   \n",
              "4  The Senegal pre-exposure prophylaxis (PrEP) De...  2020-08-20   \n",
              "\n",
              "                                           author(s)  \n",
              "0  Li Jerry, Nikanjam Mina, Cunningham Coleen K, ...  \n",
              "1  Zürcher Kathrin, Morrow Carl, Riou Julien, Bal...  \n",
              "2  Tiamiyu Abdulwasiu B, Lawlor John, Hu Fengming...  \n",
              "3  Toyé Rayana Maryse, Lô Gora, Diop-Ndiaye Halim...  \n",
              "4  Sarr Moussa, Gueye Daouda, Mboup Aminata, Diou...  "
            ],
            "text/html": "<div>\n<style scoped>\n    .dataframe tbody tr th:only-of-type {\n        vertical-align: middle;\n    }\n\n    .dataframe tbody tr th {\n        vertical-align: top;\n    }\n\n    .dataframe thead th {\n        text-align: right;\n    }\n</style>\n<table border=\"1\" class=\"dataframe\">\n  <thead>\n    <tr style=\"text-align: right;\">\n      <th></th>\n      <th>pmid</th>\n      <th>title</th>\n      <th>abstract</th>\n      <th>date</th>\n      <th>author(s)</th>\n    </tr>\n  </thead>\n  <tbody>\n    <tr>\n      <th>0</th>\n      <td>32866318</td>\n      <td>Model Informed Development of VRC01 in Newborn...</td>\n      <td>VRC01 is a first-in-class, potent, broadly neu...</td>\n      <td>2020-08-31</td>\n      <td>Li Jerry, Nikanjam Mina, Cunningham Coleen K, ...</td>\n    </tr>\n    <tr>\n      <th>1</th>\n      <td>32847906</td>\n      <td>Novel approach to estimate tuberculosis transm...</td>\n      <td>Tuberculosis (TB) transmission is difficult to...</td>\n      <td>2020-08-26</td>\n      <td>Zürcher Kathrin, Morrow Carl, Riou Julien, Bal...</td>\n    </tr>\n    <tr>\n      <th>2</th>\n      <td>32842997</td>\n      <td>HIV status disclosure by Nigerian men who have...</td>\n      <td>Men who have sex with men (MSM) and transgende...</td>\n      <td>2020-08-26</td>\n      <td>Tiamiyu Abdulwasiu B, Lawlor John, Hu Fengming...</td>\n    </tr>\n    <tr>\n      <th>3</th>\n      <td>32828748</td>\n      <td>Prevalence and molecular characterization of h...</td>\n      <td>Sub-Saharan Africa (SSA) is the region with th...</td>\n      <td>2020-08-19</td>\n      <td>Toyé Rayana Maryse, Lô Gora, Diop-Ndiaye Halim...</td>\n    </tr>\n    <tr>\n      <th>4</th>\n      <td>32819210</td>\n      <td>Uptake, retention, and outcomes in a demonstra...</td>\n      <td>The Senegal pre-exposure prophylaxis (PrEP) De...</td>\n      <td>2020-08-20</td>\n      <td>Sarr Moussa, Gueye Daouda, Mboup Aminata, Diou...</td>\n    </tr>\n  </tbody>\n</table>\n</div>"
          },
          "metadata": {},
          "execution_count": 19
        }
      ],
      "source": [
        "sql_df = sql_author_query(\"Julie\")\n",
        "sql_df.head()"
      ]
    },
    {
      "cell_type": "code",
      "execution_count": 20,
      "metadata": {},
      "outputs": [],
      "source": [
        "hiv_bydate = hiv_csv.copy()\n",
        "hiv_bydate[\"month\"] = pd.to_datetime(hiv_bydate[\"date\"]).dt.month_name()\n",
        "hiv_bydate[\"day\"] = pd.to_datetime(hiv_bydate[\"date\"]).dt.day"
      ]
    },
    {
      "cell_type": "code",
      "execution_count": 23,
      "metadata": {},
      "outputs": [
        {
          "output_type": "display_data",
          "data": {
            "application/vnd.plotly.v1+json": {
              "config": {
                "plotlyServerURL": "https://plot.ly"
              },
              "data": [
                {
                  "hovertemplate": "index=%{x}<br>month=%{y}<extra></extra>",
                  "legendgroup": "",
                  "line": {
                    "color": "#636efa",
                    "dash": "solid"
                  },
                  "mode": "lines",
                  "name": "",
                  "orientation": "v",
                  "showlegend": false,
                  "type": "scatter",
                  "x": [
                    "January",
                    "February",
                    "March",
                    "April",
                    "May",
                    "June",
                    "July",
                    "August",
                    "September",
                    "October",
                    "November",
                    "December"
                  ],
                  "xaxis": "x",
                  "y": [
                    855,
                    858,
                    935,
                    900,
                    936,
                    968,
                    1062,
                    887,
                    71,
                    43,
                    49,
                    200
                  ],
                  "yaxis": "y"
                },
                {
                  "type": "bar",
                  "x": [
                    "January",
                    "February",
                    "March",
                    "April",
                    "May",
                    "June",
                    "July",
                    "August",
                    "September",
                    "October",
                    "November",
                    "December"
                  ],
                  "y": [
                    855,
                    858,
                    935,
                    900,
                    936,
                    968,
                    1062,
                    887,
                    71,
                    43,
                    49,
                    200
                  ]
                }
              ],
              "layout": {
                "legend": {
                  "tracegroupgap": 0
                },
                "margin": {
                  "t": 60
                },
                "template": {
                  "data": {
                    "bar": [
                      {
                        "error_x": {
                          "color": "#2a3f5f"
                        },
                        "error_y": {
                          "color": "#2a3f5f"
                        },
                        "marker": {
                          "line": {
                            "color": "#E5ECF6",
                            "width": 0.5
                          }
                        },
                        "type": "bar"
                      }
                    ],
                    "barpolar": [
                      {
                        "marker": {
                          "line": {
                            "color": "#E5ECF6",
                            "width": 0.5
                          }
                        },
                        "type": "barpolar"
                      }
                    ],
                    "carpet": [
                      {
                        "aaxis": {
                          "endlinecolor": "#2a3f5f",
                          "gridcolor": "white",
                          "linecolor": "white",
                          "minorgridcolor": "white",
                          "startlinecolor": "#2a3f5f"
                        },
                        "baxis": {
                          "endlinecolor": "#2a3f5f",
                          "gridcolor": "white",
                          "linecolor": "white",
                          "minorgridcolor": "white",
                          "startlinecolor": "#2a3f5f"
                        },
                        "type": "carpet"
                      }
                    ],
                    "choropleth": [
                      {
                        "colorbar": {
                          "outlinewidth": 0,
                          "ticks": ""
                        },
                        "type": "choropleth"
                      }
                    ],
                    "contour": [
                      {
                        "colorbar": {
                          "outlinewidth": 0,
                          "ticks": ""
                        },
                        "colorscale": [
                          [
                            0,
                            "#0d0887"
                          ],
                          [
                            0.1111111111111111,
                            "#46039f"
                          ],
                          [
                            0.2222222222222222,
                            "#7201a8"
                          ],
                          [
                            0.3333333333333333,
                            "#9c179e"
                          ],
                          [
                            0.4444444444444444,
                            "#bd3786"
                          ],
                          [
                            0.5555555555555556,
                            "#d8576b"
                          ],
                          [
                            0.6666666666666666,
                            "#ed7953"
                          ],
                          [
                            0.7777777777777778,
                            "#fb9f3a"
                          ],
                          [
                            0.8888888888888888,
                            "#fdca26"
                          ],
                          [
                            1,
                            "#f0f921"
                          ]
                        ],
                        "type": "contour"
                      }
                    ],
                    "contourcarpet": [
                      {
                        "colorbar": {
                          "outlinewidth": 0,
                          "ticks": ""
                        },
                        "type": "contourcarpet"
                      }
                    ],
                    "heatmap": [
                      {
                        "colorbar": {
                          "outlinewidth": 0,
                          "ticks": ""
                        },
                        "colorscale": [
                          [
                            0,
                            "#0d0887"
                          ],
                          [
                            0.1111111111111111,
                            "#46039f"
                          ],
                          [
                            0.2222222222222222,
                            "#7201a8"
                          ],
                          [
                            0.3333333333333333,
                            "#9c179e"
                          ],
                          [
                            0.4444444444444444,
                            "#bd3786"
                          ],
                          [
                            0.5555555555555556,
                            "#d8576b"
                          ],
                          [
                            0.6666666666666666,
                            "#ed7953"
                          ],
                          [
                            0.7777777777777778,
                            "#fb9f3a"
                          ],
                          [
                            0.8888888888888888,
                            "#fdca26"
                          ],
                          [
                            1,
                            "#f0f921"
                          ]
                        ],
                        "type": "heatmap"
                      }
                    ],
                    "heatmapgl": [
                      {
                        "colorbar": {
                          "outlinewidth": 0,
                          "ticks": ""
                        },
                        "colorscale": [
                          [
                            0,
                            "#0d0887"
                          ],
                          [
                            0.1111111111111111,
                            "#46039f"
                          ],
                          [
                            0.2222222222222222,
                            "#7201a8"
                          ],
                          [
                            0.3333333333333333,
                            "#9c179e"
                          ],
                          [
                            0.4444444444444444,
                            "#bd3786"
                          ],
                          [
                            0.5555555555555556,
                            "#d8576b"
                          ],
                          [
                            0.6666666666666666,
                            "#ed7953"
                          ],
                          [
                            0.7777777777777778,
                            "#fb9f3a"
                          ],
                          [
                            0.8888888888888888,
                            "#fdca26"
                          ],
                          [
                            1,
                            "#f0f921"
                          ]
                        ],
                        "type": "heatmapgl"
                      }
                    ],
                    "histogram": [
                      {
                        "marker": {
                          "colorbar": {
                            "outlinewidth": 0,
                            "ticks": ""
                          }
                        },
                        "type": "histogram"
                      }
                    ],
                    "histogram2d": [
                      {
                        "colorbar": {
                          "outlinewidth": 0,
                          "ticks": ""
                        },
                        "colorscale": [
                          [
                            0,
                            "#0d0887"
                          ],
                          [
                            0.1111111111111111,
                            "#46039f"
                          ],
                          [
                            0.2222222222222222,
                            "#7201a8"
                          ],
                          [
                            0.3333333333333333,
                            "#9c179e"
                          ],
                          [
                            0.4444444444444444,
                            "#bd3786"
                          ],
                          [
                            0.5555555555555556,
                            "#d8576b"
                          ],
                          [
                            0.6666666666666666,
                            "#ed7953"
                          ],
                          [
                            0.7777777777777778,
                            "#fb9f3a"
                          ],
                          [
                            0.8888888888888888,
                            "#fdca26"
                          ],
                          [
                            1,
                            "#f0f921"
                          ]
                        ],
                        "type": "histogram2d"
                      }
                    ],
                    "histogram2dcontour": [
                      {
                        "colorbar": {
                          "outlinewidth": 0,
                          "ticks": ""
                        },
                        "colorscale": [
                          [
                            0,
                            "#0d0887"
                          ],
                          [
                            0.1111111111111111,
                            "#46039f"
                          ],
                          [
                            0.2222222222222222,
                            "#7201a8"
                          ],
                          [
                            0.3333333333333333,
                            "#9c179e"
                          ],
                          [
                            0.4444444444444444,
                            "#bd3786"
                          ],
                          [
                            0.5555555555555556,
                            "#d8576b"
                          ],
                          [
                            0.6666666666666666,
                            "#ed7953"
                          ],
                          [
                            0.7777777777777778,
                            "#fb9f3a"
                          ],
                          [
                            0.8888888888888888,
                            "#fdca26"
                          ],
                          [
                            1,
                            "#f0f921"
                          ]
                        ],
                        "type": "histogram2dcontour"
                      }
                    ],
                    "mesh3d": [
                      {
                        "colorbar": {
                          "outlinewidth": 0,
                          "ticks": ""
                        },
                        "type": "mesh3d"
                      }
                    ],
                    "parcoords": [
                      {
                        "line": {
                          "colorbar": {
                            "outlinewidth": 0,
                            "ticks": ""
                          }
                        },
                        "type": "parcoords"
                      }
                    ],
                    "pie": [
                      {
                        "automargin": true,
                        "type": "pie"
                      }
                    ],
                    "scatter": [
                      {
                        "marker": {
                          "colorbar": {
                            "outlinewidth": 0,
                            "ticks": ""
                          }
                        },
                        "type": "scatter"
                      }
                    ],
                    "scatter3d": [
                      {
                        "line": {
                          "colorbar": {
                            "outlinewidth": 0,
                            "ticks": ""
                          }
                        },
                        "marker": {
                          "colorbar": {
                            "outlinewidth": 0,
                            "ticks": ""
                          }
                        },
                        "type": "scatter3d"
                      }
                    ],
                    "scattercarpet": [
                      {
                        "marker": {
                          "colorbar": {
                            "outlinewidth": 0,
                            "ticks": ""
                          }
                        },
                        "type": "scattercarpet"
                      }
                    ],
                    "scattergeo": [
                      {
                        "marker": {
                          "colorbar": {
                            "outlinewidth": 0,
                            "ticks": ""
                          }
                        },
                        "type": "scattergeo"
                      }
                    ],
                    "scattergl": [
                      {
                        "marker": {
                          "colorbar": {
                            "outlinewidth": 0,
                            "ticks": ""
                          }
                        },
                        "type": "scattergl"
                      }
                    ],
                    "scattermapbox": [
                      {
                        "marker": {
                          "colorbar": {
                            "outlinewidth": 0,
                            "ticks": ""
                          }
                        },
                        "type": "scattermapbox"
                      }
                    ],
                    "scatterpolar": [
                      {
                        "marker": {
                          "colorbar": {
                            "outlinewidth": 0,
                            "ticks": ""
                          }
                        },
                        "type": "scatterpolar"
                      }
                    ],
                    "scatterpolargl": [
                      {
                        "marker": {
                          "colorbar": {
                            "outlinewidth": 0,
                            "ticks": ""
                          }
                        },
                        "type": "scatterpolargl"
                      }
                    ],
                    "scatterternary": [
                      {
                        "marker": {
                          "colorbar": {
                            "outlinewidth": 0,
                            "ticks": ""
                          }
                        },
                        "type": "scatterternary"
                      }
                    ],
                    "surface": [
                      {
                        "colorbar": {
                          "outlinewidth": 0,
                          "ticks": ""
                        },
                        "colorscale": [
                          [
                            0,
                            "#0d0887"
                          ],
                          [
                            0.1111111111111111,
                            "#46039f"
                          ],
                          [
                            0.2222222222222222,
                            "#7201a8"
                          ],
                          [
                            0.3333333333333333,
                            "#9c179e"
                          ],
                          [
                            0.4444444444444444,
                            "#bd3786"
                          ],
                          [
                            0.5555555555555556,
                            "#d8576b"
                          ],
                          [
                            0.6666666666666666,
                            "#ed7953"
                          ],
                          [
                            0.7777777777777778,
                            "#fb9f3a"
                          ],
                          [
                            0.8888888888888888,
                            "#fdca26"
                          ],
                          [
                            1,
                            "#f0f921"
                          ]
                        ],
                        "type": "surface"
                      }
                    ],
                    "table": [
                      {
                        "cells": {
                          "fill": {
                            "color": "#EBF0F8"
                          },
                          "line": {
                            "color": "white"
                          }
                        },
                        "header": {
                          "fill": {
                            "color": "#C8D4E3"
                          },
                          "line": {
                            "color": "white"
                          }
                        },
                        "type": "table"
                      }
                    ]
                  },
                  "layout": {
                    "annotationdefaults": {
                      "arrowcolor": "#2a3f5f",
                      "arrowhead": 0,
                      "arrowwidth": 1
                    },
                    "autotypenumbers": "strict",
                    "coloraxis": {
                      "colorbar": {
                        "outlinewidth": 0,
                        "ticks": ""
                      }
                    },
                    "colorscale": {
                      "diverging": [
                        [
                          0,
                          "#8e0152"
                        ],
                        [
                          0.1,
                          "#c51b7d"
                        ],
                        [
                          0.2,
                          "#de77ae"
                        ],
                        [
                          0.3,
                          "#f1b6da"
                        ],
                        [
                          0.4,
                          "#fde0ef"
                        ],
                        [
                          0.5,
                          "#f7f7f7"
                        ],
                        [
                          0.6,
                          "#e6f5d0"
                        ],
                        [
                          0.7,
                          "#b8e186"
                        ],
                        [
                          0.8,
                          "#7fbc41"
                        ],
                        [
                          0.9,
                          "#4d9221"
                        ],
                        [
                          1,
                          "#276419"
                        ]
                      ],
                      "sequential": [
                        [
                          0,
                          "#0d0887"
                        ],
                        [
                          0.1111111111111111,
                          "#46039f"
                        ],
                        [
                          0.2222222222222222,
                          "#7201a8"
                        ],
                        [
                          0.3333333333333333,
                          "#9c179e"
                        ],
                        [
                          0.4444444444444444,
                          "#bd3786"
                        ],
                        [
                          0.5555555555555556,
                          "#d8576b"
                        ],
                        [
                          0.6666666666666666,
                          "#ed7953"
                        ],
                        [
                          0.7777777777777778,
                          "#fb9f3a"
                        ],
                        [
                          0.8888888888888888,
                          "#fdca26"
                        ],
                        [
                          1,
                          "#f0f921"
                        ]
                      ],
                      "sequentialminus": [
                        [
                          0,
                          "#0d0887"
                        ],
                        [
                          0.1111111111111111,
                          "#46039f"
                        ],
                        [
                          0.2222222222222222,
                          "#7201a8"
                        ],
                        [
                          0.3333333333333333,
                          "#9c179e"
                        ],
                        [
                          0.4444444444444444,
                          "#bd3786"
                        ],
                        [
                          0.5555555555555556,
                          "#d8576b"
                        ],
                        [
                          0.6666666666666666,
                          "#ed7953"
                        ],
                        [
                          0.7777777777777778,
                          "#fb9f3a"
                        ],
                        [
                          0.8888888888888888,
                          "#fdca26"
                        ],
                        [
                          1,
                          "#f0f921"
                        ]
                      ]
                    },
                    "colorway": [
                      "#636efa",
                      "#EF553B",
                      "#00cc96",
                      "#ab63fa",
                      "#FFA15A",
                      "#19d3f3",
                      "#FF6692",
                      "#B6E880",
                      "#FF97FF",
                      "#FECB52"
                    ],
                    "font": {
                      "color": "#2a3f5f"
                    },
                    "geo": {
                      "bgcolor": "white",
                      "lakecolor": "white",
                      "landcolor": "#E5ECF6",
                      "showlakes": true,
                      "showland": true,
                      "subunitcolor": "white"
                    },
                    "hoverlabel": {
                      "align": "left"
                    },
                    "hovermode": "closest",
                    "mapbox": {
                      "style": "light"
                    },
                    "paper_bgcolor": "white",
                    "plot_bgcolor": "#E5ECF6",
                    "polar": {
                      "angularaxis": {
                        "gridcolor": "white",
                        "linecolor": "white",
                        "ticks": ""
                      },
                      "bgcolor": "#E5ECF6",
                      "radialaxis": {
                        "gridcolor": "white",
                        "linecolor": "white",
                        "ticks": ""
                      }
                    },
                    "scene": {
                      "xaxis": {
                        "backgroundcolor": "#E5ECF6",
                        "gridcolor": "white",
                        "gridwidth": 2,
                        "linecolor": "white",
                        "showbackground": true,
                        "ticks": "",
                        "zerolinecolor": "white"
                      },
                      "yaxis": {
                        "backgroundcolor": "#E5ECF6",
                        "gridcolor": "white",
                        "gridwidth": 2,
                        "linecolor": "white",
                        "showbackground": true,
                        "ticks": "",
                        "zerolinecolor": "white"
                      },
                      "zaxis": {
                        "backgroundcolor": "#E5ECF6",
                        "gridcolor": "white",
                        "gridwidth": 2,
                        "linecolor": "white",
                        "showbackground": true,
                        "ticks": "",
                        "zerolinecolor": "white"
                      }
                    },
                    "shapedefaults": {
                      "line": {
                        "color": "#2a3f5f"
                      }
                    },
                    "ternary": {
                      "aaxis": {
                        "gridcolor": "white",
                        "linecolor": "white",
                        "ticks": ""
                      },
                      "baxis": {
                        "gridcolor": "white",
                        "linecolor": "white",
                        "ticks": ""
                      },
                      "bgcolor": "#E5ECF6",
                      "caxis": {
                        "gridcolor": "white",
                        "linecolor": "white",
                        "ticks": ""
                      }
                    },
                    "title": {
                      "x": 0.05
                    },
                    "xaxis": {
                      "automargin": true,
                      "gridcolor": "white",
                      "linecolor": "white",
                      "ticks": "",
                      "title": {
                        "standoff": 15
                      },
                      "zerolinecolor": "white",
                      "zerolinewidth": 2
                    },
                    "yaxis": {
                      "automargin": true,
                      "gridcolor": "white",
                      "linecolor": "white",
                      "ticks": "",
                      "title": {
                        "standoff": 15
                      },
                      "zerolinecolor": "white",
                      "zerolinewidth": 2
                    }
                  }
                },
                "xaxis": {
                  "anchor": "y",
                  "domain": [
                    0,
                    1
                  ],
                  "title": {
                    "text": "index"
                  }
                },
                "yaxis": {
                  "anchor": "x",
                  "domain": [
                    0,
                    1
                  ],
                  "title": {
                    "text": "month"
                  }
                }
              }
            }
          },
          "metadata": {}
        }
      ],
      "source": [
        "months = [\"January\", \"February\", \"March\", \"April\", \"May\", \"June\", \"July\", \"August\", \"September\", \"October\", \"November\", \"December\"]\n",
        "month = pd.DataFrame(hiv_bydate[\"month\"].value_counts())\n",
        "month.index = pd.CategoricalIndex(month.index, categories=months, ordered=True)\n",
        "month = month.sort_index()\n",
        "\n",
        "month_fig = px.line(month, x=month.index, y=\"month\")\n",
        "month_fig.add_bar(x=month.index, y=month[\"month\"])\n",
        "month_fig.show()"
      ]
    },
    {
      "cell_type": "code",
      "execution_count": 24,
      "metadata": {},
      "outputs": [
        {
          "output_type": "stream",
          "name": "stdout",
          "text": [
            "            day\nmean   7.142857\nstd    5.595728\nmin    1.000000\n25%    3.000000\n50%    6.000000\n75%   10.000000\nmax   24.000000\n"
          ]
        }
      ],
      "source": [
        "# hiv_bydate[hiv_bydate[\"month\"] == \"December\"].day.value_counts() for graphing per month\n",
        "a = hiv_bydate[hiv_bydate[\"month\"] == \"December\"][\"day\"].value_counts().describe().to_frame()\n",
        "a = a.drop(\"count\")\n",
        "print(a)"
      ]
    }
  ]
}