{
  "nbformat": 4,
  "nbformat_minor": 0,
  "metadata": {
    "colab": {
      "name": "pm_query.ipynb",
      "provenance": [],
      "collapsed_sections": []
    },
    "kernelspec": {
      "name": "python3",
      "display_name": "Python 3"
    }
  },
  "cells": [
    {
      "cell_type": "code",
      "metadata": {
        "id": "tq8HUbomurbN"
      },
      "source": [
        "import yaml\n",
        "import time\n",
        "import pickle\n",
        "import json\n",
        "\n",
        "import pandas as pd\n",
        "\n",
        "from Bio import Entrez"
      ],
      "execution_count": 8,
      "outputs": []
    },
    {
      "cell_type": "code",
      "metadata": {
        "id": "7_1lFOsU5_bb",
        "colab": {
          "base_uri": "https://localhost:8080/"
        },
        "outputId": "ddfcaf5f-f189-4a8b-a3ff-72c4f85d6b9a"
      },
      "source": [
        "with open(\"apikeys.yaml\", \"r\") as yamlfile:\n",
        "  keys = yaml.load(yamlfile, Loader=yaml.FullLoader)\n",
        "  print(\"Read Successful\")"
      ],
      "execution_count": null,
      "outputs": []
    },
    {
      "cell_type": "code",
      "metadata": {
        "id": "BNSii-U9vQ7c"
      },
      "source": [
        "# Handles the eSearch endpoint for Entrez\n",
        "def get_pmid(contact, key, term, **dates):\n",
        "    ''' Using the Entrez search term, it queries the eSearch endpoint of the Entrez api to retrieve the corresponding pmids and join them to the input df. '''\n",
        "    for_efetch = []\n",
        "    Entrez.email = contact\n",
        "    Entrez.api_key = key\n",
        "    \n",
        "    # Get total number of records\n",
        "    handle = Entrez.esearch(db='pubmed', term=term, retmax=1, mindate=dates.get(\"mindate\"), maxdate=dates.get(\"maxdate\"))\n",
        "    record = Entrez.read(handle)\n",
        "    count = int(record['Count'])\n",
        "\n",
        "    # Get all pmids with updated retmax\n",
        "    handle = Entrez.esearch(db='pubmed', term=term, retmax=count, mindate=dates.get(\"mindate\"), maxdate=dates.get(\"maxdate\"))\n",
        "    record = Entrez.read(handle)\n",
        "    for_efetch.append(record['IdList'])\n",
        "\n",
        "    # Change output from being a 1 item list\n",
        "    for_efetch = pd.Series(for_efetch[0]).str.split(pat=\",\", expand=True).values.tolist()\n",
        "\n",
        "    return for_efetch\n",
        "\n",
        "# Handles the eFetch endpoint for Entrez\n",
        "def get_data(pmid_list, contact, key):\n",
        "    ''' Using the pmids, it queries the eFetch endpoint to retrieve the details for the corresponding citation as a list of dictionaries. ''' \n",
        "    to_clean = []\n",
        "    counter = 0\n",
        "    for i in range(len(pmid_list)):\n",
        "            Entrez.email = contact\n",
        "            Entrez.api_key = key\n",
        "            handle = Entrez.efetch(db='pubmed', id=pmid_list[i], retmode='xml')\n",
        "            record = Entrez.read(handle)\n",
        "            to_clean.append(record)\n",
        "            if counter == 600:\n",
        "                print(f\"Number of records retrieved is {len(to_clean)}\")\n",
        "                time.sleep(60)\n",
        "                counter = 0\n",
        "            \n",
        "            counter += 1\n",
        "\n",
        "    return to_clean\n",
        "\n",
        "def clean_data(records):\n",
        "    ''' Using a list of dictionaries (that contains all citation data for the dataset), on a per citation basis, it extracts the following information about the citations where possible:\n",
        "    title, abstract, mesh terms, referenced chemicals. The extracted information is saved as a list which is then converted into a df. \n",
        "    ''' \n",
        "    for record in records:\n",
        "        if record.get(\"PubmedArticle\") != []:\n",
        "            a = record['PubmedArticle'][0]['MedlineCitation']['Article']['ArticleTitle']\n",
        "            if 'Abstract' in record['PubmedArticle'][0]['MedlineCitation']['Article'].keys():\n",
        "                b = record['PubmedArticle'][0]['MedlineCitation']['Article']['Abstract']['AbstractText']\n",
        "            else:\n",
        "                b = []\n",
        "            if 'MeshHeadingList' in record['PubmedArticle'][0]['MedlineCitation'].keys():\n",
        "                c = record['PubmedArticle'][0]['MedlineCitation']['MeshHeadingList']\n",
        "            else:\n",
        "                c = []\n",
        "            if 'ChemicalList' in record['PubmedArticle'][0]['MedlineCitation'].keys():\n",
        "                d = record['PubmedArticle'][0]['MedlineCitation']['ChemicalList']\n",
        "            else:\n",
        "                d = []\n",
        "            e = record['PubmedArticle'][0]['MedlineCitation']['PMID']\n",
        "        elif record.get(\"PubmedArticle\") == []:\n",
        "            a = record['PubmedBookArticle'][0]['BookDocument']['Book']['BookTitle']\n",
        "            b = record['PubmedBookArticle'][0]['BookDocument']['Abstract']['AbstractText']\n",
        "            if 'Sections' in record['PubmedBookArticle'][0]['BookDocument'].keys():\n",
        "              c = record['PubmedBookArticle'][0]['BookDocument']['Sections']\n",
        "            else:\n",
        "              c = []\n",
        "            d = []\n",
        "            e = record['PubmedBookArticle'][0]['BookDocument']['PMID']\n",
        "\n",
        "        v = [e,a,b,c,d]\n",
        "\n",
        "        data_tmp = pd.DataFrame(v).transpose().rename(columns={0:'pmid',1:'title',2:'abstract',3:'mesh',4:'chemicals'})\n",
        "\n",
        "        if records.index(record) == 0:\n",
        "            data = data_tmp\n",
        "        else:\n",
        "            data = pd.concat([data,data_tmp])\n",
        "\n",
        "    return data"
      ],
      "execution_count": null,
      "outputs": []
    },
    {
      "cell_type": "code",
      "metadata": {
        "id": "iFuEdgMkvVlc"
      },
      "source": [
        "email = \"rachit.sabharwal@uth.tmc.edu\"\n",
        "search = \"HIV\"\n",
        "hiv_pmids = get_pmid(contact=email, key=keys[\"apikeys\"][\"ncbikey\"][\"key\"], term=search, mindate=\"2020/01/01\", maxdate=\"2020/09/01\")"
      ],
      "execution_count": null,
      "outputs": []
    },
    {
      "cell_type": "code",
      "execution_count": 9,
      "metadata": {},
      "outputs": [],
      "source": [
        "with open('D:\\Dell_Desktop\\Documents\\Python Projects\\ph_1975_capstone_project\\webapp\\hiv_records.json', 'r') as outfile:\n",
        "   hiv_records = json.load(outfile)"
      ]
    },
    {
      "cell_type": "code",
      "execution_count": 15,
      "metadata": {},
      "outputs": [
        {
          "output_type": "execute_result",
          "data": {
            "text/plain": [
              "{'GeneralNote': [],\n",
              " 'SpaceFlightMission': [],\n",
              " 'KeywordList': [['Diabetes',\n",
              "   'Hypertension',\n",
              "   'Obesity',\n",
              "   'Renal function',\n",
              "   'Sudan']],\n",
              " 'CitationSubset': ['IM'],\n",
              " 'OtherID': [],\n",
              " 'OtherAbstract': [],\n",
              " 'PMID': '32866934',\n",
              " 'DateRevised': {'Year': '2020', 'Month': '11', 'Day': '10'},\n",
              " 'Article': {'ELocationID': ['S1871-4021(20)30313-1',\n",
              "   '10.1016/j.dsx.2020.08.010'],\n",
              "  'Language': ['eng'],\n",
              "  'ArticleDate': [{'Year': '2020', 'Month': '08', 'Day': '18'}],\n",
              "  'Journal': {'ISSN': '1878-0334',\n",
              "   'JournalIssue': {'Volume': '14',\n",
              "    'Issue': '6',\n",
              "    'PubDate': {'Year': '2020', 'Month': 'Aug', 'Day': '18'}},\n",
              "   'Title': 'Diabetes & metabolic syndrome',\n",
              "   'ISOAbbreviation': 'Diabetes Metab Syndr'},\n",
              "  'ArticleTitle': 'The prevalence and risk factors for systemic hypertension among Sudanese patients with diabetes mellitus: A survey in diabetes healthcare facility.',\n",
              "  'Pagination': {'MedlinePgn': '1607-1611'},\n",
              "  'Abstract': {'AbstractText': ['Diabetes and hypertension are common chronic diseases that affect about one fifth of Sudanese adults. The aim of this study was to assess the prevalence of hypertension among Sudanese individuals with diabetes.',\n",
              "    'This a survey in diabetes healthcare facility-based study that recruited 266 individuals with diabetes mellitus (DM). Data was collected using a standardized pretested questionnaire, and was analyzed by performing descriptive and inferential statistics through SPSS program.',\n",
              "    'The study showed that average age of participants was 58.7 (±10.5 SD) years, males were 59% and most of the participants (72.6%) from urban areas. Diabetes for 1-5 years was observed in 10.9% and for more than 11 years in 71.4%. The majority (91.7%) had type 2 diabetes mellitus while only (8.3%) had type 1 diabetes. The prevalence of hypertension was 47.7% among the study group, this was significantly associated with age (p value 0.016), and retinopathy (p value 0.001). Logistic regression analysis showed that age, body mass index (BMI), serum creatinine and retinopathy had statistically significant associations with the presence of hypertension (p values 0.002,0,016, 0.008,0.001) respectively.',\n",
              "    'Prevalence of hypertension in Sudanese patients with diabetes presenting to diabetes clinic was 47.7%, and it increased with age and presence of retinopathy. Risk factors of hypertension were age, body mass index (BMI), serum creatinine and retinopathy.'],\n",
              "   'CopyrightInformation': 'Copyright © 2020 Diabetes India. Published by Elsevier Ltd. All rights reserved.'},\n",
              "  'AuthorList': [{'Identifier': [],\n",
              "    'AffiliationInfo': [{'Identifier': [],\n",
              "      'Affiliation': 'Department of Pathology, Faculty of Medicine, University of Medical Sciences and Technology, P.O. Box12810, Khartoum, Sudan. Electronic address: a.elmobarak@yahoo.com.'}],\n",
              "    'LastName': 'Almobarak',\n",
              "    'ForeName': 'Ahmed Omer',\n",
              "    'Initials': 'AO'},\n",
              "   {'Identifier': [],\n",
              "    'AffiliationInfo': [{'Identifier': [],\n",
              "      'Affiliation': 'Department of Clinical Pharmacy, Faculty of Pharmacy, Omdurman Islamic University, Khartoum, Sudan. Electronic address: safaabadi30@gmail.com.'}],\n",
              "    'LastName': 'Badi',\n",
              "    'ForeName': 'Safaa',\n",
              "    'Initials': 'S'},\n",
              "   {'Identifier': [],\n",
              "    'AffiliationInfo': [{'Identifier': [],\n",
              "      'Affiliation': 'Department of Research and Training, Alsharg Ahlia College, Kassala, Sudan. Electronic address: samar.siddig1982@gmail.com.'}],\n",
              "    'LastName': 'Siddiq',\n",
              "    'ForeName': 'Samar B',\n",
              "    'Initials': 'SB'},\n",
              "   {'Identifier': [],\n",
              "    'AffiliationInfo': [{'Identifier': [],\n",
              "      'Affiliation': 'Department of Medicine, Faculty of Medicine, Nile Valley University, Sudan. Electronic address: sufiankhalid@yahoo.com.'}],\n",
              "    'LastName': 'Noor',\n",
              "    'ForeName': 'Sufian M',\n",
              "    'Initials': 'SM'},\n",
              "   {'Identifier': [],\n",
              "    'AffiliationInfo': [{'Identifier': [],\n",
              "      'Affiliation': 'Faculty of Medicine, Sudan International University, Khartoum, Sudan. Electronic address: wadie2222@yahoo.com.'}],\n",
              "    'LastName': 'Elmadhoun',\n",
              "    'ForeName': 'Wadie M',\n",
              "    'Initials': 'WM'},\n",
              "   {'Identifier': [],\n",
              "    'AffiliationInfo': [{'Identifier': [],\n",
              "      'Affiliation': 'Imperial College London Diabetes Centre, Al Ain, United Arab Emirates. Electronic address: mersuliman1234@yahoo.co.uk.'}],\n",
              "    'LastName': 'Suliman',\n",
              "    'ForeName': 'Mohamed',\n",
              "    'Initials': 'M'},\n",
              "   {'Identifier': [],\n",
              "    'AffiliationInfo': [{'Identifier': [],\n",
              "      'Affiliation': 'Department of Medicine and HIV Metabolic Clinic, Milton Keynes University Hospital NHS Foundation Trust, Eagelstone, Milton Keynes, Buckinghamshire, UK. Electronic address: Mohamed.Hassan-Ahmed@mkuh.nhs.uk.'}],\n",
              "    'LastName': 'Ahmed',\n",
              "    'ForeName': 'Mohamed H',\n",
              "    'Initials': 'MH'}],\n",
              "  'PublicationTypeList': ['Journal Article']},\n",
              " 'MedlineJournalInfo': {'Country': 'Netherlands',\n",
              "  'MedlineTA': 'Diabetes Metab Syndr',\n",
              "  'NlmUniqueID': '101462250',\n",
              "  'ISSNLinking': '1871-4021'},\n",
              " 'CoiStatement': 'Declaration of competing interest None for all authors.'}"
            ]
          },
          "metadata": {},
          "execution_count": 15
        }
      ],
      "source": [
        "hiv_records[0][\"PubmedArticle\"][0][\"MedlineCitation\"]"
      ]
    },
    {
      "cell_type": "code",
      "execution_count": null,
      "metadata": {},
      "outputs": [],
      "source": []
    }
  ]
}